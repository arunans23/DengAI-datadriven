{
 "cells": [
  {
   "cell_type": "code",
   "execution_count": 15,
   "metadata": {
    "collapsed": true,
    "deletable": true,
    "editable": true
   },
   "outputs": [],
   "source": [
    "import pandas as pd"
   ]
  },
  {
   "cell_type": "code",
   "execution_count": 16,
   "metadata": {
    "collapsed": false,
    "deletable": true,
    "editable": true
   },
   "outputs": [
    {
     "name": "stdout",
     "output_type": "stream",
     "text": [
      "(1456, 24)\n",
      "(1456, 1)\n"
     ]
    }
   ],
   "source": [
    "trainingDataIndep = pd.read_csv('https://s3.amazonaws.com/drivendata/data/44/public/dengue_features_train.csv')\n",
    "\n",
    "print( trainingDataIndep.shape)\n",
    "\n",
    "trainingDataDep = pd.read_csv('https://s3.amazonaws.com/drivendata/data/44/public/dengue_labels_train.csv', \n",
    "                      usecols=['total_cases'])\n",
    "print(trainingDataDep.shape)\n",
    "\n",
    "testDataIndep = pd.read_csv('https://s3.amazonaws.com/drivendata/data/44/public/dengue_features_test.csv')"
   ]
  },
  {
   "cell_type": "code",
   "execution_count": 17,
   "metadata": {
    "collapsed": false,
    "deletable": true,
    "editable": true
   },
   "outputs": [
    {
     "data": {
      "text/html": [
       "<div>\n",
       "<style>\n",
       "    .dataframe thead tr:only-child th {\n",
       "        text-align: right;\n",
       "    }\n",
       "\n",
       "    .dataframe thead th {\n",
       "        text-align: left;\n",
       "    }\n",
       "\n",
       "    .dataframe tbody tr th {\n",
       "        vertical-align: top;\n",
       "    }\n",
       "</style>\n",
       "<table border=\"1\" class=\"dataframe\">\n",
       "  <thead>\n",
       "    <tr style=\"text-align: right;\">\n",
       "      <th></th>\n",
       "      <th>city</th>\n",
       "      <th>year</th>\n",
       "      <th>weekofyear</th>\n",
       "      <th>week_start_date</th>\n",
       "      <th>ndvi_ne</th>\n",
       "      <th>ndvi_nw</th>\n",
       "      <th>ndvi_se</th>\n",
       "      <th>ndvi_sw</th>\n",
       "      <th>precipitation_amt_mm</th>\n",
       "      <th>reanalysis_air_temp_k</th>\n",
       "      <th>...</th>\n",
       "      <th>reanalysis_precip_amt_kg_per_m2</th>\n",
       "      <th>reanalysis_relative_humidity_percent</th>\n",
       "      <th>reanalysis_sat_precip_amt_mm</th>\n",
       "      <th>reanalysis_specific_humidity_g_per_kg</th>\n",
       "      <th>reanalysis_tdtr_k</th>\n",
       "      <th>station_avg_temp_c</th>\n",
       "      <th>station_diur_temp_rng_c</th>\n",
       "      <th>station_max_temp_c</th>\n",
       "      <th>station_min_temp_c</th>\n",
       "      <th>station_precip_mm</th>\n",
       "    </tr>\n",
       "  </thead>\n",
       "  <tbody>\n",
       "    <tr>\n",
       "      <th>0</th>\n",
       "      <td>sj</td>\n",
       "      <td>1990</td>\n",
       "      <td>18</td>\n",
       "      <td>1990-04-30</td>\n",
       "      <td>0.122600</td>\n",
       "      <td>0.103725</td>\n",
       "      <td>0.198483</td>\n",
       "      <td>0.177617</td>\n",
       "      <td>12.42</td>\n",
       "      <td>297.572857</td>\n",
       "      <td>...</td>\n",
       "      <td>32.00</td>\n",
       "      <td>73.365714</td>\n",
       "      <td>12.42</td>\n",
       "      <td>14.012857</td>\n",
       "      <td>2.628571</td>\n",
       "      <td>25.442857</td>\n",
       "      <td>6.900000</td>\n",
       "      <td>29.4</td>\n",
       "      <td>20.0</td>\n",
       "      <td>16.0</td>\n",
       "    </tr>\n",
       "    <tr>\n",
       "      <th>1</th>\n",
       "      <td>sj</td>\n",
       "      <td>1990</td>\n",
       "      <td>19</td>\n",
       "      <td>1990-05-07</td>\n",
       "      <td>0.169900</td>\n",
       "      <td>0.142175</td>\n",
       "      <td>0.162357</td>\n",
       "      <td>0.155486</td>\n",
       "      <td>22.82</td>\n",
       "      <td>298.211429</td>\n",
       "      <td>...</td>\n",
       "      <td>17.94</td>\n",
       "      <td>77.368571</td>\n",
       "      <td>22.82</td>\n",
       "      <td>15.372857</td>\n",
       "      <td>2.371429</td>\n",
       "      <td>26.714286</td>\n",
       "      <td>6.371429</td>\n",
       "      <td>31.7</td>\n",
       "      <td>22.2</td>\n",
       "      <td>8.6</td>\n",
       "    </tr>\n",
       "    <tr>\n",
       "      <th>2</th>\n",
       "      <td>sj</td>\n",
       "      <td>1990</td>\n",
       "      <td>20</td>\n",
       "      <td>1990-05-14</td>\n",
       "      <td>0.032250</td>\n",
       "      <td>0.172967</td>\n",
       "      <td>0.157200</td>\n",
       "      <td>0.170843</td>\n",
       "      <td>34.54</td>\n",
       "      <td>298.781429</td>\n",
       "      <td>...</td>\n",
       "      <td>26.10</td>\n",
       "      <td>82.052857</td>\n",
       "      <td>34.54</td>\n",
       "      <td>16.848571</td>\n",
       "      <td>2.300000</td>\n",
       "      <td>26.714286</td>\n",
       "      <td>6.485714</td>\n",
       "      <td>32.2</td>\n",
       "      <td>22.8</td>\n",
       "      <td>41.4</td>\n",
       "    </tr>\n",
       "    <tr>\n",
       "      <th>3</th>\n",
       "      <td>sj</td>\n",
       "      <td>1990</td>\n",
       "      <td>21</td>\n",
       "      <td>1990-05-21</td>\n",
       "      <td>0.128633</td>\n",
       "      <td>0.245067</td>\n",
       "      <td>0.227557</td>\n",
       "      <td>0.235886</td>\n",
       "      <td>15.36</td>\n",
       "      <td>298.987143</td>\n",
       "      <td>...</td>\n",
       "      <td>13.90</td>\n",
       "      <td>80.337143</td>\n",
       "      <td>15.36</td>\n",
       "      <td>16.672857</td>\n",
       "      <td>2.428571</td>\n",
       "      <td>27.471429</td>\n",
       "      <td>6.771429</td>\n",
       "      <td>33.3</td>\n",
       "      <td>23.3</td>\n",
       "      <td>4.0</td>\n",
       "    </tr>\n",
       "    <tr>\n",
       "      <th>4</th>\n",
       "      <td>sj</td>\n",
       "      <td>1990</td>\n",
       "      <td>22</td>\n",
       "      <td>1990-05-28</td>\n",
       "      <td>0.196200</td>\n",
       "      <td>0.262200</td>\n",
       "      <td>0.251200</td>\n",
       "      <td>0.247340</td>\n",
       "      <td>7.52</td>\n",
       "      <td>299.518571</td>\n",
       "      <td>...</td>\n",
       "      <td>12.20</td>\n",
       "      <td>80.460000</td>\n",
       "      <td>7.52</td>\n",
       "      <td>17.210000</td>\n",
       "      <td>3.014286</td>\n",
       "      <td>28.942857</td>\n",
       "      <td>9.371429</td>\n",
       "      <td>35.0</td>\n",
       "      <td>23.9</td>\n",
       "      <td>5.8</td>\n",
       "    </tr>\n",
       "  </tbody>\n",
       "</table>\n",
       "<p>5 rows × 24 columns</p>\n",
       "</div>"
      ],
      "text/plain": [
       "  city  year  weekofyear week_start_date   ndvi_ne   ndvi_nw   ndvi_se  \\\n",
       "0   sj  1990          18      1990-04-30  0.122600  0.103725  0.198483   \n",
       "1   sj  1990          19      1990-05-07  0.169900  0.142175  0.162357   \n",
       "2   sj  1990          20      1990-05-14  0.032250  0.172967  0.157200   \n",
       "3   sj  1990          21      1990-05-21  0.128633  0.245067  0.227557   \n",
       "4   sj  1990          22      1990-05-28  0.196200  0.262200  0.251200   \n",
       "\n",
       "    ndvi_sw  precipitation_amt_mm  reanalysis_air_temp_k        ...          \\\n",
       "0  0.177617                 12.42             297.572857        ...           \n",
       "1  0.155486                 22.82             298.211429        ...           \n",
       "2  0.170843                 34.54             298.781429        ...           \n",
       "3  0.235886                 15.36             298.987143        ...           \n",
       "4  0.247340                  7.52             299.518571        ...           \n",
       "\n",
       "   reanalysis_precip_amt_kg_per_m2  reanalysis_relative_humidity_percent  \\\n",
       "0                            32.00                             73.365714   \n",
       "1                            17.94                             77.368571   \n",
       "2                            26.10                             82.052857   \n",
       "3                            13.90                             80.337143   \n",
       "4                            12.20                             80.460000   \n",
       "\n",
       "   reanalysis_sat_precip_amt_mm  reanalysis_specific_humidity_g_per_kg  \\\n",
       "0                         12.42                              14.012857   \n",
       "1                         22.82                              15.372857   \n",
       "2                         34.54                              16.848571   \n",
       "3                         15.36                              16.672857   \n",
       "4                          7.52                              17.210000   \n",
       "\n",
       "   reanalysis_tdtr_k  station_avg_temp_c  station_diur_temp_rng_c  \\\n",
       "0           2.628571           25.442857                 6.900000   \n",
       "1           2.371429           26.714286                 6.371429   \n",
       "2           2.300000           26.714286                 6.485714   \n",
       "3           2.428571           27.471429                 6.771429   \n",
       "4           3.014286           28.942857                 9.371429   \n",
       "\n",
       "   station_max_temp_c  station_min_temp_c  station_precip_mm  \n",
       "0                29.4                20.0               16.0  \n",
       "1                31.7                22.2                8.6  \n",
       "2                32.2                22.8               41.4  \n",
       "3                33.3                23.3                4.0  \n",
       "4                35.0                23.9                5.8  \n",
       "\n",
       "[5 rows x 24 columns]"
      ]
     },
     "execution_count": 17,
     "metadata": {},
     "output_type": "execute_result"
    }
   ],
   "source": [
    "trainingDataIndep.head()"
   ]
  },
  {
   "cell_type": "code",
   "execution_count": 18,
   "metadata": {
    "collapsed": false,
    "deletable": true,
    "editable": true
   },
   "outputs": [
    {
     "data": {
      "text/html": [
       "<div>\n",
       "<style>\n",
       "    .dataframe thead tr:only-child th {\n",
       "        text-align: right;\n",
       "    }\n",
       "\n",
       "    .dataframe thead th {\n",
       "        text-align: left;\n",
       "    }\n",
       "\n",
       "    .dataframe tbody tr th {\n",
       "        vertical-align: top;\n",
       "    }\n",
       "</style>\n",
       "<table border=\"1\" class=\"dataframe\">\n",
       "  <thead>\n",
       "    <tr style=\"text-align: right;\">\n",
       "      <th></th>\n",
       "      <th>total_cases</th>\n",
       "    </tr>\n",
       "  </thead>\n",
       "  <tbody>\n",
       "    <tr>\n",
       "      <th>0</th>\n",
       "      <td>4</td>\n",
       "    </tr>\n",
       "    <tr>\n",
       "      <th>1</th>\n",
       "      <td>5</td>\n",
       "    </tr>\n",
       "    <tr>\n",
       "      <th>2</th>\n",
       "      <td>4</td>\n",
       "    </tr>\n",
       "    <tr>\n",
       "      <th>3</th>\n",
       "      <td>3</td>\n",
       "    </tr>\n",
       "    <tr>\n",
       "      <th>4</th>\n",
       "      <td>6</td>\n",
       "    </tr>\n",
       "  </tbody>\n",
       "</table>\n",
       "</div>"
      ],
      "text/plain": [
       "   total_cases\n",
       "0            4\n",
       "1            5\n",
       "2            4\n",
       "3            3\n",
       "4            6"
      ]
     },
     "execution_count": 18,
     "metadata": {},
     "output_type": "execute_result"
    }
   ],
   "source": [
    "trainingDataDep.head()"
   ]
  },
  {
   "cell_type": "code",
   "execution_count": 19,
   "metadata": {
    "collapsed": false,
    "deletable": true,
    "editable": true
   },
   "outputs": [
    {
     "data": {
      "text/html": [
       "<div>\n",
       "<style>\n",
       "    .dataframe thead tr:only-child th {\n",
       "        text-align: right;\n",
       "    }\n",
       "\n",
       "    .dataframe thead th {\n",
       "        text-align: left;\n",
       "    }\n",
       "\n",
       "    .dataframe tbody tr th {\n",
       "        vertical-align: top;\n",
       "    }\n",
       "</style>\n",
       "<table border=\"1\" class=\"dataframe\">\n",
       "  <thead>\n",
       "    <tr style=\"text-align: right;\">\n",
       "      <th></th>\n",
       "      <th>city</th>\n",
       "      <th>year</th>\n",
       "      <th>weekofyear</th>\n",
       "      <th>week_start_date</th>\n",
       "      <th>ndvi_ne</th>\n",
       "      <th>ndvi_nw</th>\n",
       "      <th>ndvi_se</th>\n",
       "      <th>ndvi_sw</th>\n",
       "      <th>precipitation_amt_mm</th>\n",
       "      <th>reanalysis_air_temp_k</th>\n",
       "      <th>...</th>\n",
       "      <th>reanalysis_precip_amt_kg_per_m2</th>\n",
       "      <th>reanalysis_relative_humidity_percent</th>\n",
       "      <th>reanalysis_sat_precip_amt_mm</th>\n",
       "      <th>reanalysis_specific_humidity_g_per_kg</th>\n",
       "      <th>reanalysis_tdtr_k</th>\n",
       "      <th>station_avg_temp_c</th>\n",
       "      <th>station_diur_temp_rng_c</th>\n",
       "      <th>station_max_temp_c</th>\n",
       "      <th>station_min_temp_c</th>\n",
       "      <th>station_precip_mm</th>\n",
       "    </tr>\n",
       "  </thead>\n",
       "  <tbody>\n",
       "    <tr>\n",
       "      <th>0</th>\n",
       "      <td>sj</td>\n",
       "      <td>2008</td>\n",
       "      <td>18</td>\n",
       "      <td>2008-04-29</td>\n",
       "      <td>-0.0189</td>\n",
       "      <td>-0.018900</td>\n",
       "      <td>0.102729</td>\n",
       "      <td>0.091200</td>\n",
       "      <td>78.60</td>\n",
       "      <td>298.492857</td>\n",
       "      <td>...</td>\n",
       "      <td>25.37</td>\n",
       "      <td>78.781429</td>\n",
       "      <td>78.60</td>\n",
       "      <td>15.918571</td>\n",
       "      <td>3.128571</td>\n",
       "      <td>26.528571</td>\n",
       "      <td>7.057143</td>\n",
       "      <td>33.3</td>\n",
       "      <td>21.7</td>\n",
       "      <td>75.2</td>\n",
       "    </tr>\n",
       "    <tr>\n",
       "      <th>1</th>\n",
       "      <td>sj</td>\n",
       "      <td>2008</td>\n",
       "      <td>19</td>\n",
       "      <td>2008-05-06</td>\n",
       "      <td>-0.0180</td>\n",
       "      <td>-0.012400</td>\n",
       "      <td>0.082043</td>\n",
       "      <td>0.072314</td>\n",
       "      <td>12.56</td>\n",
       "      <td>298.475714</td>\n",
       "      <td>...</td>\n",
       "      <td>21.83</td>\n",
       "      <td>78.230000</td>\n",
       "      <td>12.56</td>\n",
       "      <td>15.791429</td>\n",
       "      <td>2.571429</td>\n",
       "      <td>26.071429</td>\n",
       "      <td>5.557143</td>\n",
       "      <td>30.0</td>\n",
       "      <td>22.2</td>\n",
       "      <td>34.3</td>\n",
       "    </tr>\n",
       "    <tr>\n",
       "      <th>2</th>\n",
       "      <td>sj</td>\n",
       "      <td>2008</td>\n",
       "      <td>20</td>\n",
       "      <td>2008-05-13</td>\n",
       "      <td>-0.0015</td>\n",
       "      <td>NaN</td>\n",
       "      <td>0.151083</td>\n",
       "      <td>0.091529</td>\n",
       "      <td>3.66</td>\n",
       "      <td>299.455714</td>\n",
       "      <td>...</td>\n",
       "      <td>4.12</td>\n",
       "      <td>78.270000</td>\n",
       "      <td>3.66</td>\n",
       "      <td>16.674286</td>\n",
       "      <td>4.428571</td>\n",
       "      <td>27.928571</td>\n",
       "      <td>7.785714</td>\n",
       "      <td>32.8</td>\n",
       "      <td>22.8</td>\n",
       "      <td>3.0</td>\n",
       "    </tr>\n",
       "    <tr>\n",
       "      <th>3</th>\n",
       "      <td>sj</td>\n",
       "      <td>2008</td>\n",
       "      <td>21</td>\n",
       "      <td>2008-05-20</td>\n",
       "      <td>NaN</td>\n",
       "      <td>-0.019867</td>\n",
       "      <td>0.124329</td>\n",
       "      <td>0.125686</td>\n",
       "      <td>0.00</td>\n",
       "      <td>299.690000</td>\n",
       "      <td>...</td>\n",
       "      <td>2.20</td>\n",
       "      <td>73.015714</td>\n",
       "      <td>0.00</td>\n",
       "      <td>15.775714</td>\n",
       "      <td>4.342857</td>\n",
       "      <td>28.057143</td>\n",
       "      <td>6.271429</td>\n",
       "      <td>33.3</td>\n",
       "      <td>24.4</td>\n",
       "      <td>0.3</td>\n",
       "    </tr>\n",
       "    <tr>\n",
       "      <th>4</th>\n",
       "      <td>sj</td>\n",
       "      <td>2008</td>\n",
       "      <td>22</td>\n",
       "      <td>2008-05-27</td>\n",
       "      <td>0.0568</td>\n",
       "      <td>0.039833</td>\n",
       "      <td>0.062267</td>\n",
       "      <td>0.075914</td>\n",
       "      <td>0.76</td>\n",
       "      <td>299.780000</td>\n",
       "      <td>...</td>\n",
       "      <td>4.36</td>\n",
       "      <td>74.084286</td>\n",
       "      <td>0.76</td>\n",
       "      <td>16.137143</td>\n",
       "      <td>3.542857</td>\n",
       "      <td>27.614286</td>\n",
       "      <td>7.085714</td>\n",
       "      <td>33.3</td>\n",
       "      <td>23.3</td>\n",
       "      <td>84.1</td>\n",
       "    </tr>\n",
       "  </tbody>\n",
       "</table>\n",
       "<p>5 rows × 24 columns</p>\n",
       "</div>"
      ],
      "text/plain": [
       "  city  year  weekofyear week_start_date  ndvi_ne   ndvi_nw   ndvi_se  \\\n",
       "0   sj  2008          18      2008-04-29  -0.0189 -0.018900  0.102729   \n",
       "1   sj  2008          19      2008-05-06  -0.0180 -0.012400  0.082043   \n",
       "2   sj  2008          20      2008-05-13  -0.0015       NaN  0.151083   \n",
       "3   sj  2008          21      2008-05-20      NaN -0.019867  0.124329   \n",
       "4   sj  2008          22      2008-05-27   0.0568  0.039833  0.062267   \n",
       "\n",
       "    ndvi_sw  precipitation_amt_mm  reanalysis_air_temp_k        ...          \\\n",
       "0  0.091200                 78.60             298.492857        ...           \n",
       "1  0.072314                 12.56             298.475714        ...           \n",
       "2  0.091529                  3.66             299.455714        ...           \n",
       "3  0.125686                  0.00             299.690000        ...           \n",
       "4  0.075914                  0.76             299.780000        ...           \n",
       "\n",
       "   reanalysis_precip_amt_kg_per_m2  reanalysis_relative_humidity_percent  \\\n",
       "0                            25.37                             78.781429   \n",
       "1                            21.83                             78.230000   \n",
       "2                             4.12                             78.270000   \n",
       "3                             2.20                             73.015714   \n",
       "4                             4.36                             74.084286   \n",
       "\n",
       "   reanalysis_sat_precip_amt_mm  reanalysis_specific_humidity_g_per_kg  \\\n",
       "0                         78.60                              15.918571   \n",
       "1                         12.56                              15.791429   \n",
       "2                          3.66                              16.674286   \n",
       "3                          0.00                              15.775714   \n",
       "4                          0.76                              16.137143   \n",
       "\n",
       "   reanalysis_tdtr_k  station_avg_temp_c  station_diur_temp_rng_c  \\\n",
       "0           3.128571           26.528571                 7.057143   \n",
       "1           2.571429           26.071429                 5.557143   \n",
       "2           4.428571           27.928571                 7.785714   \n",
       "3           4.342857           28.057143                 6.271429   \n",
       "4           3.542857           27.614286                 7.085714   \n",
       "\n",
       "   station_max_temp_c  station_min_temp_c  station_precip_mm  \n",
       "0                33.3                21.7               75.2  \n",
       "1                30.0                22.2               34.3  \n",
       "2                32.8                22.8                3.0  \n",
       "3                33.3                24.4                0.3  \n",
       "4                33.3                23.3               84.1  \n",
       "\n",
       "[5 rows x 24 columns]"
      ]
     },
     "execution_count": 19,
     "metadata": {},
     "output_type": "execute_result"
    }
   ],
   "source": [
    "testDataIndep.head()"
   ]
  },
  {
   "cell_type": "code",
   "execution_count": 20,
   "metadata": {
    "collapsed": false,
    "deletable": true,
    "editable": true
   },
   "outputs": [],
   "source": [
    "trainingData = pd.concat([trainingDataDep, trainingDataIndep], axis=1) "
   ]
  },
  {
   "cell_type": "code",
   "execution_count": 21,
   "metadata": {
    "collapsed": false,
    "deletable": true,
    "editable": true
   },
   "outputs": [
    {
     "data": {
      "text/html": [
       "<div>\n",
       "<style>\n",
       "    .dataframe thead tr:only-child th {\n",
       "        text-align: right;\n",
       "    }\n",
       "\n",
       "    .dataframe thead th {\n",
       "        text-align: left;\n",
       "    }\n",
       "\n",
       "    .dataframe tbody tr th {\n",
       "        vertical-align: top;\n",
       "    }\n",
       "</style>\n",
       "<table border=\"1\" class=\"dataframe\">\n",
       "  <thead>\n",
       "    <tr style=\"text-align: right;\">\n",
       "      <th></th>\n",
       "      <th>total_cases</th>\n",
       "      <th>city</th>\n",
       "      <th>year</th>\n",
       "      <th>weekofyear</th>\n",
       "      <th>week_start_date</th>\n",
       "      <th>ndvi_ne</th>\n",
       "      <th>ndvi_nw</th>\n",
       "      <th>ndvi_se</th>\n",
       "      <th>ndvi_sw</th>\n",
       "      <th>precipitation_amt_mm</th>\n",
       "      <th>...</th>\n",
       "      <th>reanalysis_precip_amt_kg_per_m2</th>\n",
       "      <th>reanalysis_relative_humidity_percent</th>\n",
       "      <th>reanalysis_sat_precip_amt_mm</th>\n",
       "      <th>reanalysis_specific_humidity_g_per_kg</th>\n",
       "      <th>reanalysis_tdtr_k</th>\n",
       "      <th>station_avg_temp_c</th>\n",
       "      <th>station_diur_temp_rng_c</th>\n",
       "      <th>station_max_temp_c</th>\n",
       "      <th>station_min_temp_c</th>\n",
       "      <th>station_precip_mm</th>\n",
       "    </tr>\n",
       "  </thead>\n",
       "  <tbody>\n",
       "    <tr>\n",
       "      <th>0</th>\n",
       "      <td>4</td>\n",
       "      <td>sj</td>\n",
       "      <td>1990</td>\n",
       "      <td>18</td>\n",
       "      <td>1990-04-30</td>\n",
       "      <td>0.122600</td>\n",
       "      <td>0.103725</td>\n",
       "      <td>0.198483</td>\n",
       "      <td>0.177617</td>\n",
       "      <td>12.42</td>\n",
       "      <td>...</td>\n",
       "      <td>32.00</td>\n",
       "      <td>73.365714</td>\n",
       "      <td>12.42</td>\n",
       "      <td>14.012857</td>\n",
       "      <td>2.628571</td>\n",
       "      <td>25.442857</td>\n",
       "      <td>6.900000</td>\n",
       "      <td>29.4</td>\n",
       "      <td>20.0</td>\n",
       "      <td>16.0</td>\n",
       "    </tr>\n",
       "    <tr>\n",
       "      <th>1</th>\n",
       "      <td>5</td>\n",
       "      <td>sj</td>\n",
       "      <td>1990</td>\n",
       "      <td>19</td>\n",
       "      <td>1990-05-07</td>\n",
       "      <td>0.169900</td>\n",
       "      <td>0.142175</td>\n",
       "      <td>0.162357</td>\n",
       "      <td>0.155486</td>\n",
       "      <td>22.82</td>\n",
       "      <td>...</td>\n",
       "      <td>17.94</td>\n",
       "      <td>77.368571</td>\n",
       "      <td>22.82</td>\n",
       "      <td>15.372857</td>\n",
       "      <td>2.371429</td>\n",
       "      <td>26.714286</td>\n",
       "      <td>6.371429</td>\n",
       "      <td>31.7</td>\n",
       "      <td>22.2</td>\n",
       "      <td>8.6</td>\n",
       "    </tr>\n",
       "    <tr>\n",
       "      <th>2</th>\n",
       "      <td>4</td>\n",
       "      <td>sj</td>\n",
       "      <td>1990</td>\n",
       "      <td>20</td>\n",
       "      <td>1990-05-14</td>\n",
       "      <td>0.032250</td>\n",
       "      <td>0.172967</td>\n",
       "      <td>0.157200</td>\n",
       "      <td>0.170843</td>\n",
       "      <td>34.54</td>\n",
       "      <td>...</td>\n",
       "      <td>26.10</td>\n",
       "      <td>82.052857</td>\n",
       "      <td>34.54</td>\n",
       "      <td>16.848571</td>\n",
       "      <td>2.300000</td>\n",
       "      <td>26.714286</td>\n",
       "      <td>6.485714</td>\n",
       "      <td>32.2</td>\n",
       "      <td>22.8</td>\n",
       "      <td>41.4</td>\n",
       "    </tr>\n",
       "    <tr>\n",
       "      <th>3</th>\n",
       "      <td>3</td>\n",
       "      <td>sj</td>\n",
       "      <td>1990</td>\n",
       "      <td>21</td>\n",
       "      <td>1990-05-21</td>\n",
       "      <td>0.128633</td>\n",
       "      <td>0.245067</td>\n",
       "      <td>0.227557</td>\n",
       "      <td>0.235886</td>\n",
       "      <td>15.36</td>\n",
       "      <td>...</td>\n",
       "      <td>13.90</td>\n",
       "      <td>80.337143</td>\n",
       "      <td>15.36</td>\n",
       "      <td>16.672857</td>\n",
       "      <td>2.428571</td>\n",
       "      <td>27.471429</td>\n",
       "      <td>6.771429</td>\n",
       "      <td>33.3</td>\n",
       "      <td>23.3</td>\n",
       "      <td>4.0</td>\n",
       "    </tr>\n",
       "    <tr>\n",
       "      <th>4</th>\n",
       "      <td>6</td>\n",
       "      <td>sj</td>\n",
       "      <td>1990</td>\n",
       "      <td>22</td>\n",
       "      <td>1990-05-28</td>\n",
       "      <td>0.196200</td>\n",
       "      <td>0.262200</td>\n",
       "      <td>0.251200</td>\n",
       "      <td>0.247340</td>\n",
       "      <td>7.52</td>\n",
       "      <td>...</td>\n",
       "      <td>12.20</td>\n",
       "      <td>80.460000</td>\n",
       "      <td>7.52</td>\n",
       "      <td>17.210000</td>\n",
       "      <td>3.014286</td>\n",
       "      <td>28.942857</td>\n",
       "      <td>9.371429</td>\n",
       "      <td>35.0</td>\n",
       "      <td>23.9</td>\n",
       "      <td>5.8</td>\n",
       "    </tr>\n",
       "  </tbody>\n",
       "</table>\n",
       "<p>5 rows × 25 columns</p>\n",
       "</div>"
      ],
      "text/plain": [
       "   total_cases city  year  weekofyear week_start_date   ndvi_ne   ndvi_nw  \\\n",
       "0            4   sj  1990          18      1990-04-30  0.122600  0.103725   \n",
       "1            5   sj  1990          19      1990-05-07  0.169900  0.142175   \n",
       "2            4   sj  1990          20      1990-05-14  0.032250  0.172967   \n",
       "3            3   sj  1990          21      1990-05-21  0.128633  0.245067   \n",
       "4            6   sj  1990          22      1990-05-28  0.196200  0.262200   \n",
       "\n",
       "    ndvi_se   ndvi_sw  precipitation_amt_mm        ...          \\\n",
       "0  0.198483  0.177617                 12.42        ...           \n",
       "1  0.162357  0.155486                 22.82        ...           \n",
       "2  0.157200  0.170843                 34.54        ...           \n",
       "3  0.227557  0.235886                 15.36        ...           \n",
       "4  0.251200  0.247340                  7.52        ...           \n",
       "\n",
       "   reanalysis_precip_amt_kg_per_m2  reanalysis_relative_humidity_percent  \\\n",
       "0                            32.00                             73.365714   \n",
       "1                            17.94                             77.368571   \n",
       "2                            26.10                             82.052857   \n",
       "3                            13.90                             80.337143   \n",
       "4                            12.20                             80.460000   \n",
       "\n",
       "   reanalysis_sat_precip_amt_mm  reanalysis_specific_humidity_g_per_kg  \\\n",
       "0                         12.42                              14.012857   \n",
       "1                         22.82                              15.372857   \n",
       "2                         34.54                              16.848571   \n",
       "3                         15.36                              16.672857   \n",
       "4                          7.52                              17.210000   \n",
       "\n",
       "   reanalysis_tdtr_k  station_avg_temp_c  station_diur_temp_rng_c  \\\n",
       "0           2.628571           25.442857                 6.900000   \n",
       "1           2.371429           26.714286                 6.371429   \n",
       "2           2.300000           26.714286                 6.485714   \n",
       "3           2.428571           27.471429                 6.771429   \n",
       "4           3.014286           28.942857                 9.371429   \n",
       "\n",
       "   station_max_temp_c  station_min_temp_c  station_precip_mm  \n",
       "0                29.4                20.0               16.0  \n",
       "1                31.7                22.2                8.6  \n",
       "2                32.2                22.8               41.4  \n",
       "3                33.3                23.3                4.0  \n",
       "4                35.0                23.9                5.8  \n",
       "\n",
       "[5 rows x 25 columns]"
      ]
     },
     "execution_count": 21,
     "metadata": {},
     "output_type": "execute_result"
    }
   ],
   "source": [
    "trainingData.head()"
   ]
  },
  {
   "cell_type": "code",
   "execution_count": 22,
   "metadata": {
    "collapsed": true,
    "deletable": true,
    "editable": true
   },
   "outputs": [],
   "source": [
    "trainingData_sj =  trainingData[trainingData['city'] == 'sj']"
   ]
  },
  {
   "cell_type": "code",
   "execution_count": 23,
   "metadata": {
    "collapsed": true
   },
   "outputs": [],
   "source": [
    "trainingData_iq =  trainingData[trainingData['city'] == 'iq']"
   ]
  },
  {
   "cell_type": "code",
   "execution_count": 24,
   "metadata": {
    "collapsed": true
   },
   "outputs": [],
   "source": [
    "## FrontFill for impute"
   ]
  },
  {
   "cell_type": "code",
   "execution_count": 25,
   "metadata": {
    "collapsed": true
   },
   "outputs": [],
   "source": [
    "trainingData_sj = trainingData_sj.fillna(method = 'ffill')\n",
    "trainingData_iq = trainingData_iq.fillna(method = 'ffill')"
   ]
  },
  {
   "cell_type": "code",
   "execution_count": 26,
   "metadata": {
    "collapsed": true
   },
   "outputs": [],
   "source": [
    "trainingData_sj.set_index('week_start_date', drop = True, inplace = True)\n",
    "trainingData_iq.set_index('week_start_date', drop = True, inplace = True)"
   ]
  },
  {
   "cell_type": "code",
   "execution_count": 27,
   "metadata": {
    "collapsed": true
   },
   "outputs": [],
   "source": [
    "trainingData_sj.drop(['city', 'year'], axis = 1, inplace = True)\n",
    "trainingData_iq.drop(['city', 'year'], axis = 1, inplace = True)"
   ]
  },
  {
   "cell_type": "code",
   "execution_count": 29,
   "metadata": {
    "collapsed": true
   },
   "outputs": [],
   "source": [
    "trainingData_iq.to_pickle('trainingData_iq.pkl')\n",
    "trainingData_sj.to_pickle('trainingData_sj.pkl')"
   ]
  },
  {
   "cell_type": "code",
   "execution_count": 30,
   "metadata": {
    "collapsed": true
   },
   "outputs": [],
   "source": [
    "train_new = pd.read_csv('https://s3.amazonaws.com/drivendata/data/44/public/dengue_features_train.csv', parse_dates=[3])\n",
    "test_new = pd.read_csv('https://s3.amazonaws.com/drivendata/data/44/public/dengue_features_test.csv', parse_dates=[3])"
   ]
  },
  {
   "cell_type": "code",
   "execution_count": 31,
   "metadata": {
    "collapsed": true
   },
   "outputs": [],
   "source": [
    "totalSet = pd.concat([train_new, test_new], axis = 0)"
   ]
  },
  {
   "cell_type": "code",
   "execution_count": 32,
   "metadata": {
    "collapsed": true
   },
   "outputs": [],
   "source": [
    "total_sj = totalSet[totalSet['city'] == 'sj']\n",
    "total_iq = totalSet[totalSet['city'] == 'iq']"
   ]
  },
  {
   "cell_type": "code",
   "execution_count": 33,
   "metadata": {
    "collapsed": true
   },
   "outputs": [],
   "source": [
    "total_sj = total_sj.fillna(method = 'ffill')\n",
    "total_iq = total_iq.fillna(method = 'ffill')"
   ]
  },
  {
   "cell_type": "code",
   "execution_count": 35,
   "metadata": {
    "collapsed": false
   },
   "outputs": [],
   "source": [
    "total_sj.set_index('week_start_date', drop = True, inplace = True)\n",
    "total_iq.set_index('week_start_date', drop = True, inplace = True)"
   ]
  },
  {
   "cell_type": "code",
   "execution_count": 36,
   "metadata": {
    "collapsed": true
   },
   "outputs": [],
   "source": [
    "total_sj.drop(['city', 'year'], axis = 1, inplace = True)\n",
    "total_iq.drop(['city', 'year'], axis = 1, inplace = True)\n",
    "total_iq.to_pickle('total_iq.pkl')\n",
    "total_sj.to_pickle('total_sj.pkl')"
   ]
  },
  {
   "cell_type": "code",
   "execution_count": 37,
   "metadata": {
    "collapsed": true
   },
   "outputs": [],
   "source": [
    "##Basic Feature Preprocessing is done"
   ]
  },
  {
   "cell_type": "code",
   "execution_count": 38,
   "metadata": {
    "collapsed": true
   },
   "outputs": [],
   "source": [
    "total_data_sj = pd.read_pickle('total_sj.pkl')\n",
    "total_data_iq = pd.read_pickle('total_iq.pkl')\n",
    "\n",
    "total_cases_pick = pd.read_csv('https://s3.amazonaws.com/drivendata/data/44/public/dengue_labels_train.csv')\n",
    "cases_sj = total_cases_pick[total_cases_pick['city'] == 'sj']['total_cases']\n",
    "cases_iq = total_cases_pick[total_cases_pick['city'] == 'iq']['total_cases']\n",
    "\n",
    "# create month variable\n",
    "total_data_sj['month'] = total_data_sj.index.month\n",
    "total_data_iq['month'] = total_data_iq.index.month\n",
    "\n",
    "# mean ndvi\n",
    "total_data_sj['ndvi_mean'] = (total_data_sj['ndvi_ne'] + total_data_sj['ndvi_nw'] + total_data_sj['ndvi_se'] + total_data_sj['ndvi_sw']) / 4.0\n",
    "total_data_iq['ndvi_mean'] = (total_data_iq['ndvi_ne'] + total_data_iq['ndvi_nw'] + total_data_iq['ndvi_se'] + total_data_iq['ndvi_sw']) / 4.0"
   ]
  },
  {
   "cell_type": "code",
   "execution_count": 40,
   "metadata": {
    "collapsed": true
   },
   "outputs": [],
   "source": [
    "\n",
    "sj_valid_split = '2003-4-20'\n",
    "sj_test_split = '2008-4-27' # pre post submissions\n",
    "\n",
    "sj_train = total_data_sj.loc[:sj_valid_split]\n",
    "sj_Xtrain = sj_train\n",
    "sj_ytrain = cases_sj[:len(sj_train)]\n",
    "\n",
    "sj_valid = total_data_sj.loc[sj_valid_split : sj_test_split]\n",
    "sj_Xvalid = sj_valid\n",
    "sj_yvalid = cases_sj[len(sj_train):]\n",
    "\n",
    "sj_test = total_data_sj.loc[sj_test_split:]\n",
    "sj_Xtest = sj_test"
   ]
  },
  {
   "cell_type": "code",
   "execution_count": 41,
   "metadata": {
    "collapsed": true
   },
   "outputs": [],
   "source": [
    "iq_valid_split = '2007-7-01'\n",
    "iq_test_split = '2010-7-01' # pre and post submission dates\n",
    "\n",
    "# split\n",
    "iq_train = total_data_iq.loc[:iq_valid_split]\n",
    "iq_Xtrain = iq_train\n",
    "iq_ytrain = cases_iq[:len(iq_Xtrain)]\n",
    "\n",
    "iq_valid = total_data_iq.loc[iq_valid_split : iq_test_split]\n",
    "iq_Xvalid = iq_valid\n",
    "iq_yvalid = cases_iq[len(iq_train):]\n",
    "\n",
    "iq_test = total_data_iq.loc[iq_test_split:]\n",
    "iq_Xtest = iq_test"
   ]
  },
  {
   "cell_type": "code",
   "execution_count": 42,
   "metadata": {
    "collapsed": true
   },
   "outputs": [],
   "source": [
    "import matplotlib.pyplot as plt\n",
    "import seaborn as sns\n",
    "%matplotlib inline\n",
    "plt.style.use('bmh')\n",
    "\n",
    "from sklearn.preprocessing import StandardScaler\n",
    "from sklearn.linear_model import LinearRegression, LogisticRegression"
   ]
  },
  {
   "cell_type": "code",
   "execution_count": 43,
   "metadata": {
    "collapsed": false
   },
   "outputs": [
    {
     "data": {
      "image/png": "[encoded data removed]",
      "text/plain": [
       "<matplotlib.figure.Figure at 0x7f4fdfb44eb8>"
      ]
     },
     "metadata": {},
     "output_type": "display_data"
    }
   ],
   "source": [
    "\n",
    "lr_sj = LinearRegression()\n",
    "X = pd.get_dummies(sj_Xtrain['month'], prefix='month')\n",
    "y = sj_ytrain.values\n",
    "\n",
    "lr_sj.fit(X, y)\n",
    "monthly_trend_train = pd.Series(lr_sj.predict(X)).rolling(3, min_periods = 1).mean()\n",
    "sj_residuals_train = y - monthly_trend_train\n",
    "\n",
    "Xtest = pd.get_dummies(sj_Xvalid['month'], prefix='month')\n",
    "ytest = sj_yvalid.values\n",
    "monthly_trend_valid = pd.Series(lr_sj.predict(Xtest)).rolling(3, min_periods=1).mean()\n",
    "sj_residuals_test = ytest - monthly_trend_valid\n",
    "\n",
    "# plot\n",
    "plt.plot(lr_sj.predict(Xtest))\n",
    "plt.plot(monthly_trend_valid)\n",
    "plt.plot(ytest)\n",
    "plt.show()"
   ]
  },
  {
   "cell_type": "code",
   "execution_count": 44,
   "metadata": {
    "collapsed": true
   },
   "outputs": [],
   "source": [
    "Xtrain_means1 = total_data_sj['station_avg_temp_c'].rolling(window = 52).mean()[60:675]\n",
    "Xtrain_means2 = total_data_sj['ndvi_se'].rolling(window = 10).mean()[60:675]\n",
    "Xtrain = pd.concat([Xtrain_means1], axis = 1)\n",
    "ytrain = sj_residuals_train[60:]\n",
    "Xvalid_means1 = total_data_sj['station_avg_temp_c'].rolling(window = 53).mean()[675:936]\n",
    "Xvalid_means2 = total_data_sj['ndvi_se'].rolling(window = 10).mean()[675:936]\n",
    "Xvalid = pd.concat([Xvalid_means1], axis = 1)[60:]\n",
    "yvalid = sj_residuals_test[60:]\n",
    "\n",
    "\n",
    "# fit on model, predict\n",
    "lr_sj_residual = LinearRegression()\n",
    "lr_sj_residual.fit(Xtrain, ytrain)\n",
    "\n",
    "sj_valid_preds = lr_sj_residual.predict(Xvalid)\n"
   ]
  },
  {
   "cell_type": "code",
   "execution_count": 46,
   "metadata": {
    "collapsed": false
   },
   "outputs": [
    {
     "data": {
      "text/plain": [
       "[<matplotlib.lines.Line2D at 0x7f4fdc24deb8>]"
      ]
     },
     "execution_count": 46,
     "metadata": {},
     "output_type": "execute_result"
    },
    {
     "data": {
      "image/png": "[encoded data removed]",
      "text/plain": [
       "<matplotlib.figure.Figure at 0x7f4fdc284048>"
      ]
     },
     "metadata": {},
     "output_type": "display_data"
    }
   ],
   "source": [
    "plt.plot(sj_valid_preds)"
   ]
  },
  {
   "cell_type": "code",
   "execution_count": 47,
   "metadata": {
    "collapsed": true
   },
   "outputs": [],
   "source": [
    "lr_iq = LinearRegression()\n",
    "X = pd.get_dummies(iq_Xtrain['month'], prefix='month')\n",
    "y = iq_ytrain.values\n",
    "\n",
    "lr_iq.fit(X, y)\n",
    "monthly_trend_train = pd.Series(lr_iq.predict(X)).rolling(9, min_periods = 1).mean()\n",
    "iq_residuals_train = y - monthly_trend_train\n",
    "Xtest = pd.get_dummies(iq_Xvalid['month'], prefix='month')\n",
    "ytest = iq_yvalid.values\n",
    "monthly_trend_valid = pd.Series(lr_iq.predict(Xtest)).rolling(9, min_periods=1).mean()\n",
    "iq_residuals_test = ytest - monthly_trend_valid"
   ]
  },
  {
   "cell_type": "code",
   "execution_count": 48,
   "metadata": {
    "collapsed": false
   },
   "outputs": [
    {
     "data": {
      "text/plain": [
       "[<matplotlib.lines.Line2D at 0x7f4fdc1c0828>]"
      ]
     },
     "execution_count": 48,
     "metadata": {},
     "output_type": "execute_result"
    },
    {
     "data": {
      "image/png": "[encoded data removed]",
      "text/plain": [
       "<matplotlib.figure.Figure at 0x7f4fdc25def0>"
      ]
     },
     "metadata": {},
     "output_type": "display_data"
    }
   ],
   "source": [
    "plt.plot(monthly_trend_valid)"
   ]
  },
  {
   "cell_type": "code",
   "execution_count": 49,
   "metadata": {
    "collapsed": false
   },
   "outputs": [
    {
     "data": {
      "text/plain": [
       "[<matplotlib.lines.Line2D at 0x7f4fdc1abcc0>]"
      ]
     },
     "execution_count": 49,
     "metadata": {},
     "output_type": "execute_result"
    },
    {
     "data": {
      "image/png": "[encoded data removed]",
      "text/plain": [
       "<matplotlib.figure.Figure at 0x7f4fdc1f0898>"
      ]
     },
     "metadata": {},
     "output_type": "display_data"
    }
   ],
   "source": [
    "plt.plot(ytest)"
   ]
  },
  {
   "cell_type": "code",
   "execution_count": 50,
   "metadata": {
    "collapsed": true
   },
   "outputs": [],
   "source": [
    "Xtrain_means1 = total_data_iq['station_avg_temp_c'].rolling(window = 53).mean()[60:364]\n",
    "Xtrain = pd.concat([Xtrain_means1], axis = 1)\n",
    "ytrain = iq_residuals_train[60:]\n",
    "Xvalid_means1 = total_data_iq['station_avg_temp_c'].rolling(window = 53).mean()[364:520]\n",
    "Xvalid = pd.concat([Xvalid_means1], axis = 1)[60:]\n",
    "yvalid = iq_residuals_test[60:]\n",
    "lr_iq_resids = LinearRegression()\n",
    "lr_iq_resids.fit(Xtrain, ytrain)\n",
    "iq_valid_preds = lr_iq_resids.predict(Xvalid)"
   ]
  },
  {
   "cell_type": "code",
   "execution_count": 51,
   "metadata": {
    "collapsed": false
   },
   "outputs": [
    {
     "data": {
      "text/plain": [
       "[<matplotlib.lines.Line2D at 0x7f4fdc120978>]"
      ]
     },
     "execution_count": 51,
     "metadata": {},
     "output_type": "execute_result"
    },
    {
     "data": {
      "image/png": "[encoded data removed]",
      "text/plain": [
       "<matplotlib.figure.Figure at 0x7f4fdc14db38>"
      ]
     },
     "metadata": {},
     "output_type": "display_data"
    }
   ],
   "source": [
    "plt.plot(yvalid.values, alpha = .75)"
   ]
  },
  {
   "cell_type": "code",
   "execution_count": 52,
   "metadata": {
    "collapsed": true
   },
   "outputs": [],
   "source": [
    "month_temp = pd.get_dummies(total_data_sj['month'], prefix='month')\n",
    "temp_means_roll = pd.DataFrame(total_data_sj[['station_avg_temp_c']].rolling(window = 55).mean())\n",
    "Xtest = pd.concat([month_temp, temp_means_roll], axis = 1)\n",
    "# train model\n",
    "lr_sj_full = LinearRegression()\n",
    "lr_sj_full.fit(Xtest[60:-260], cases_sj.values[60:])\n",
    "\n",
    "# predicts\n",
    "sj_full_preds = lr_sj_full.predict(Xtest[55:])\n",
    "sj_submit_preds = sj_full_preds[-260:]"
   ]
  },
  {
   "cell_type": "code",
   "execution_count": 54,
   "metadata": {
    "collapsed": true
   },
   "outputs": [],
   "source": [
    "from sklearn.metrics import mean_absolute_error"
   ]
  },
  {
   "cell_type": "code",
   "execution_count": 55,
   "metadata": {
    "collapsed": false
   },
   "outputs": [
    {
     "name": "stdout",
     "output_type": "stream",
     "text": [
      "25.7641174801\n"
     ]
    }
   ],
   "source": [
    "print (mean_absolute_error(sj_full_preds[:-260], cases_sj.values[55:]))"
   ]
  },
  {
   "cell_type": "code",
   "execution_count": 56,
   "metadata": {
    "collapsed": false
   },
   "outputs": [
    {
     "data": {
      "text/plain": [
       "[<matplotlib.lines.Line2D at 0x7f4fdc03f588>]"
      ]
     },
     "execution_count": 56,
     "metadata": {},
     "output_type": "execute_result"
    },
    {
     "data": {
      "image/png": "[encoded data removed]",
      "text/plain": [
       "<matplotlib.figure.Figure at 0x7f4fdc12c320>"
      ]
     },
     "metadata": {},
     "output_type": "display_data"
    }
   ],
   "source": [
    "plt.plot(cases_sj.values[55:])"
   ]
  },
  {
   "cell_type": "code",
   "execution_count": 57,
   "metadata": {
    "collapsed": true
   },
   "outputs": [],
   "source": [
    "month_temp_iq = pd.get_dummies(total_data_iq['month'], prefix='month')\n",
    "temp_means_roll_iq = pd.DataFrame(total_data_iq[['ndvi_nw']].rolling(window = 68).mean())\n",
    "Xtest = pd.concat([month_temp_iq, temp_means_roll_iq], axis = 1)\n",
    "\n",
    "# train\n",
    "lr_iq_full = LinearRegression()\n",
    "lr_iq_full.fit(Xtest[68:-156], cases_iq.values[68:])\n",
    "\n",
    "# predicts\n",
    "iq_full_preds = lr_iq_full.predict(Xtest[68:])\n",
    "iq_submit_preds = iq_full_preds[-156:]"
   ]
  },
  {
   "cell_type": "code",
   "execution_count": 58,
   "metadata": {
    "collapsed": false
   },
   "outputs": [
    {
     "data": {
      "text/plain": [
       "[<matplotlib.lines.Line2D at 0x7f4fd7fed898>]"
      ]
     },
     "execution_count": 58,
     "metadata": {},
     "output_type": "execute_result"
    },
    {
     "data": {
      "image/png": "[encoded data removed]",
      "text/plain": [
       "<matplotlib.figure.Figure at 0x7f4fdc05b128>"
      ]
     },
     "metadata": {},
     "output_type": "display_data"
    }
   ],
   "source": [
    "plt.plot(iq_submit_preds)"
   ]
  },
  {
   "cell_type": "code",
   "execution_count": 59,
   "metadata": {
    "collapsed": true
   },
   "outputs": [],
   "source": [
    "total_preds = list(sj_submit_preds) + list(iq_submit_preds)"
   ]
  },
  {
   "cell_type": "code",
   "execution_count": 60,
   "metadata": {
    "collapsed": false
   },
   "outputs": [
    {
     "name": "stdout",
     "output_type": "stream",
     "text": [
      "[9.21875, 6.578125, 7.59375, 9.375, 9.65625, 11.25, 9.9375, 10.234375, 9.703125, 20.734375, 19.484375, 19.015625, 18.859375, 18.96875, 39.265625, 39.875, 40.21875, 40.453125, 49.578125, 49.5, 49.359375, 48.46875, 47.96875, 63.125, 62.203125, 61.265625, 60.796875, 51.5625, 51.015625, 51.609375, 50.6875, 32.296875, 31.0, 31.796875, 31.046875, 22.421875, 22.421875, 23.234375, 23.71875, 24.890625, 16.40625, 17.203125, 17.640625, 18.59375, 11.84375, 12.421875, 12.671875, 12.8125, 5.796875, 6.3125, 7.796875, 8.328125, 10.0, 9.875, 9.4375, 9.171875, 10.65625, 13.0625, 12.828125, 13.25, 13.890625, 27.296875, 27.65625, 28.328125, 29.171875, 30.78125, 51.78125, 51.90625, 51.84375, 52.921875, 61.40625, 61.09375, 61.421875, 60.734375, 76.953125, 78.40625, 80.46875, 81.078125, 81.96875, 75.203125, 75.578125, 75.65625, 75.34375, 57.984375, 58.28125, 58.484375, 59.90625, 53.078125, 53.25, 53.78125, 53.796875, 54.484375, 43.96875, 44.359375, 44.5625, 45.703125, 40.1875, 41.03125, 41.984375, 44.21875, 39.453125, 41.15625, 42.046875, 43.46875, 45.46875, 46.328125, 46.515625, 47.625, 49.515625, 53.859375, 56.46875, 57.53125, 57.234375, 67.96875, 68.75, 69.25, 67.390625, 65.65625, 85.703125, 85.828125, 85.0, 84.890625, 93.203125, 93.328125, 92.3125, 91.453125, 106.0, 104.9375, 104.5, 103.265625, 101.609375, 92.203125, 90.796875, 88.078125, 86.046875, 67.53125, 64.5625, 63.4375, 61.828125, 52.234375, 49.796875, 48.21875, 46.96875, 45.828125, 35.71875, 36.234375, 36.453125, 36.671875, 27.53125, 26.34375, 24.609375, 22.21875, 15.296875, 16.078125, 14.109375, 12.484375, 12.234375, 11.109375, 10.65625, 9.703125, 7.203125, 10.15625, 8.890625, 8.53125, 8.328125, 18.796875, 17.875, 18.515625, 18.578125, 18.265625, 37.515625, 37.953125, 39.15625, 38.484375, 44.890625, 44.859375, 44.46875, 42.421875, 56.625, 56.8125, 56.078125, 56.046875, 55.25, 46.984375, 46.125, 45.25, 44.46875, 26.4375, 26.171875, 25.9375, 25.828125, 19.0, 19.078125, 19.28125, 19.296875, 19.96875, 10.125, 9.625, 9.96875, 9.796875, 2.640625, 2.53125, 2.953125, 4.171875, -2.03125, -0.75, 0.984375, 1.78125, 1.21875, 1.96875, 2.59375, 3.796875, 5.171875, 9.171875, 11.484375, 15.0, 17.5, 32.203125, 33.84375, 34.078125, 34.78125, 35.640625, 56.96875, 57.953125, 58.046875, 59.234375, 67.140625, 67.328125, 68.625, 70.625, 71.828125, 87.25, 89.0, 89.578125, 89.578125, 83.25, 84.046875, 85.25, 85.4375, 68.984375, 69.03125, 69.03125, 68.96875, 61.921875, 62.078125, 62.109375, 61.453125, 61.375, 51.671875, 51.5625, 52.3125, 53.25, 47.3125, 47.03125, 47.953125, 49.3125, 43.265625, 45.484375, 47.109375, 47.796875, 7.3442950991939995, 7.8203273023211892, 8.4576191574428776, 8.4829406358556696, 9.5875696379897164, 9.4825604503956527, 10.071288133943895, 9.3503264787909899, 9.6550322890704194, 12.172096012473943, 11.47784123731968, 11.893522874772302, 12.909774051066776, 16.388806601396482, 16.565986109597901, 17.094993846169487, 17.189818233998082, 16.87596548358394, 15.132125357934484, 15.800026565825817, 16.497066276661215, 16.703681783068134, 19.357924729612833, 19.650500333902158, 20.272127074268326, 18.610496684642754, 19.555502858874235, 19.595740132141444, 19.385604562042076, 19.615830860037931, 19.504959542178142, 20.716169731295594, 20.18675227071121, 20.451970187004804, 19.273002403878493, 13.410841566751685, 12.845626103508152, 13.145864140639503, 12.340158495978358, 11.144105718987575, 11.612446392929812, 12.037386605465571, 11.884386752047703, 12.923134508137508, 13.287545146831746, 14.063492952106301, 13.339392454733726, 13.755379306885729, 11.762366073116254, 11.820304017538717, 11.844429636256791, 12.035362807623599, 11.863510759761297, 11.20010582755809, 11.399680612777189, 11.915016630985946, 11.437090196553271, 11.86674412451309, 12.105792552448037, 12.157425497496945, 12.270332965559362, 15.363215690896723, 15.31155483711072, 14.254585644707376, 15.74969647609899, 18.773791078127914, 19.144917901303245, 19.262745620336631, 20.110611272110475, 20.986923052627063, 19.598813034315938, 20.842490549711357, 20.601604895550949, 20.84591263592246, 24.55086134170115, 24.563161375325535, 24.441007802041241, 24.458652061919395, 25.572595166060253, 25.385004511313682, 25.112024997090941, 24.472668489226578, 23.974835405801699, 25.117079542720646, 25.312200806061654, 25.389310271464979, 24.370938268671864, 18.70326154435601, 18.664495120914395, 17.713646823034182, 18.183344930444875, 16.547778829727349, 16.075756577699195, 16.053700955950063, 16.167399963300966, 16.516216423275765, 15.787959625797598, 15.707965465823094, 16.438074061110711, 16.672456385723208, 15.003234975593998, 14.758673087573939, 14.696889675460483, 15.072484271783921, 15.071562550223646, 14.639528174237526, 15.279562805033208, 15.890925068174724, 16.397523870261551, 15.253360171579487, 15.661896578530872, 14.483859284575644, 15.582394681174605, 16.296655528037064, 17.60225890886575, 18.792212045958024, 20.778652631226663, 21.630607209887543, 23.998741980687612, 24.169842134623934, 24.499176514692238, 25.333257625548953, 24.074680963175624, 25.074362425350699, 25.910705925321537, 25.460447737810227, 29.762069803970562, 30.278757317618627, 30.223278904878697, 29.593423243687653, 29.900034276977507, 29.889600565921498, 28.539208412466138, 27.605665312998397, 28.003852922710934, 30.013643121484535, 29.452160303377781, 28.905309976753756, 28.767010902154027, 23.885360006221404, 22.88975025064876, 21.996571498272488, 21.24292277394305, 19.723248000946356, 19.379436111956721, 19.173782566275463, 19.209155999848875, 20.004682081102487, 20.011623363714236, 20.107183473357068, 20.349624297357295, 21.618920786426969, 20.395391219376677, 20.398445147779242, 21.303146051958549, 20.958231470951901]\n"
     ]
    }
   ],
   "source": [
    "print (total_preds)"
   ]
  },
  {
   "cell_type": "code",
   "execution_count": 62,
   "metadata": {
    "collapsed": false
   },
   "outputs": [],
   "source": [
    "submission_format = pd.read_csv('https://s3.amazonaws.com/drivendata/data/44/public/submission_format.csv')"
   ]
  },
  {
   "cell_type": "code",
   "execution_count": 63,
   "metadata": {
    "collapsed": false
   },
   "outputs": [
    {
     "data": {
      "text/html": [
       "<div>\n",
       "<style>\n",
       "    .dataframe thead tr:only-child th {\n",
       "        text-align: right;\n",
       "    }\n",
       "\n",
       "    .dataframe thead th {\n",
       "        text-align: left;\n",
       "    }\n",
       "\n",
       "    .dataframe tbody tr th {\n",
       "        vertical-align: top;\n",
       "    }\n",
       "</style>\n",
       "<table border=\"1\" class=\"dataframe\">\n",
       "  <thead>\n",
       "    <tr style=\"text-align: right;\">\n",
       "      <th></th>\n",
       "      <th>city</th>\n",
       "      <th>year</th>\n",
       "      <th>weekofyear</th>\n",
       "      <th>total_cases</th>\n",
       "    </tr>\n",
       "  </thead>\n",
       "  <tbody>\n",
       "    <tr>\n",
       "      <th>0</th>\n",
       "      <td>sj</td>\n",
       "      <td>2008</td>\n",
       "      <td>18</td>\n",
       "      <td>0</td>\n",
       "    </tr>\n",
       "    <tr>\n",
       "      <th>1</th>\n",
       "      <td>sj</td>\n",
       "      <td>2008</td>\n",
       "      <td>19</td>\n",
       "      <td>0</td>\n",
       "    </tr>\n",
       "    <tr>\n",
       "      <th>2</th>\n",
       "      <td>sj</td>\n",
       "      <td>2008</td>\n",
       "      <td>20</td>\n",
       "      <td>0</td>\n",
       "    </tr>\n",
       "    <tr>\n",
       "      <th>3</th>\n",
       "      <td>sj</td>\n",
       "      <td>2008</td>\n",
       "      <td>21</td>\n",
       "      <td>0</td>\n",
       "    </tr>\n",
       "    <tr>\n",
       "      <th>4</th>\n",
       "      <td>sj</td>\n",
       "      <td>2008</td>\n",
       "      <td>22</td>\n",
       "      <td>0</td>\n",
       "    </tr>\n",
       "  </tbody>\n",
       "</table>\n",
       "</div>"
      ],
      "text/plain": [
       "  city  year  weekofyear  total_cases\n",
       "0   sj  2008          18            0\n",
       "1   sj  2008          19            0\n",
       "2   sj  2008          20            0\n",
       "3   sj  2008          21            0\n",
       "4   sj  2008          22            0"
      ]
     },
     "execution_count": 63,
     "metadata": {},
     "output_type": "execute_result"
    }
   ],
   "source": [
    "submission_format.head()"
   ]
  },
  {
   "cell_type": "code",
   "execution_count": 64,
   "metadata": {
    "collapsed": true
   },
   "outputs": [],
   "source": [
    "submission_format['total_cases'] = total_preds\n",
    "submission_format['total_cases'] = submission_format['total_cases'].apply(lambda x: int(x))"
   ]
  },
  {
   "cell_type": "code",
   "execution_count": 65,
   "metadata": {
    "collapsed": false
   },
   "outputs": [
    {
     "data": {
      "text/plain": [
       "0    9\n",
       "1    6\n",
       "2    7\n",
       "3    9\n",
       "4    9\n",
       "Name: total_cases, dtype: int64"
      ]
     },
     "execution_count": 65,
     "metadata": {},
     "output_type": "execute_result"
    }
   ],
   "source": [
    "submission_format['total_cases'].head()"
   ]
  },
  {
   "cell_type": "code",
   "execution_count": null,
   "metadata": {
    "collapsed": true
   },
   "outputs": [],
   "source": [
    "submission_format.to_csv('submission.csv', index=False)"
   ]
  }
 ],
 "metadata": {
  "kernelspec": {
   "display_name": "Python 3",
   "language": "python",
   "name": "python3"
  },
  "language_info": {
   "codemirror_mode": {
    "name": "ipython",
    "version": 3
   },
   "file_extension": ".py",
   "mimetype": "text/x-python",
   "name": "python",
   "nbconvert_exporter": "python",
   "pygments_lexer": "ipython3",
   "version": "3.5.2"
  }
 },
 "nbformat": 4,
 "nbformat_minor": 2
}
